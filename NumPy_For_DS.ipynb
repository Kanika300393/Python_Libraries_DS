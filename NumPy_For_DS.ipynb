{
 "cells": [
  {
   "cell_type": "markdown",
   "id": "d543387f",
   "metadata": {},
   "source": [
    "#                                                  NUMPY ESSENTIALS "
   ]
  },
  {
   "cell_type": "markdown",
   "id": "1382521b",
   "metadata": {},
   "source": [
    "### PART 1"
   ]
  },
  {
   "cell_type": "markdown",
   "id": "592dd255",
   "metadata": {},
   "source": [
    "As a fundamental package for scientific computing, Numpy provides the foundation of mathematical , scientific, engineering, \n",
    "and data science  programming  within the Python Echo-system. Numpy's main object is the homogeneous multidimentional array."
   ]
  },
  {
   "cell_type": "markdown",
   "id": "2aac9f84",
   "metadata": {},
   "source": [
    "### Here are some key features of NumPy:\n",
    "\n",
    "##### Arrays:\n",
    "NumPy introduces a powerful N-dimensional array object, ndarray, which is more efficient than Python's built-in lists for numerical computations.\n",
    "\n",
    "##### Mathematical Functions:\n",
    "NumPy offers a wide range of mathematical operations like trigonometric, statistical, and algebraic functions that can be applied to arrays.\n",
    "\n",
    "##### Linear Algebra:\n",
    "It provides functions for linear algebra operations, including matrix multiplication, eigenvalues, and more.\n",
    "\n",
    "##### Random Number Generation: \n",
    "NumPy has a module for generating random numbers, which is useful in simulations and statistical sampling.\n",
    "\n",
    "##### Interoperability:\n",
    "NumPy arrays can be easily integrated with other libraries like Pandas, Matplotlib, and SciPy, making it a central tool in the Python scientific computing ecosystem.\n",
    "\n",
    "##### Performance:\n",
    "NumPy operations are implemented in C, making them much faster than similar operations in pure Python.\n",
    "\n",
    "In summary, NumPy is essential for anyone working with numerical data in Python, especially in fields like data science, machine learning, and scientific computing."
   ]
  },
  {
   "cell_type": "code",
   "execution_count": 2,
   "id": "ac69ccd7",
   "metadata": {},
   "outputs": [],
   "source": [
    "import numpy as np"
   ]
  },
  {
   "cell_type": "markdown",
   "id": "19160f4b",
   "metadata": {},
   "source": [
    "Lets start with numpy arrays : Vectors (One-D array) & Matrices (Two-D arrays, can still have one row or one column)\n",
    "    We can create numpy array with python datatypes Tuples and lists "
   ]
  },
  {
   "cell_type": "code",
   "execution_count": 3,
   "id": "3b1427f6",
   "metadata": {},
   "outputs": [],
   "source": [
    "my_list = [-1,0,1] #creating a list here"
   ]
  },
  {
   "cell_type": "code",
   "execution_count": 4,
   "id": "bfc18cda",
   "metadata": {},
   "outputs": [
    {
     "data": {
      "text/plain": [
       "[-1, 0, 1]"
      ]
     },
     "execution_count": 4,
     "metadata": {},
     "output_type": "execute_result"
    }
   ],
   "source": [
    "my_list #checking values inside list"
   ]
  },
  {
   "cell_type": "code",
   "execution_count": 5,
   "id": "ef8846f6",
   "metadata": {},
   "outputs": [
    {
     "data": {
      "text/plain": [
       "list"
      ]
     },
     "execution_count": 5,
     "metadata": {},
     "output_type": "execute_result"
    }
   ],
   "source": [
    "type(my_list) # checking type of list"
   ]
  },
  {
   "cell_type": "markdown",
   "id": "1eaefc41",
   "metadata": {},
   "source": [
    "or"
   ]
  },
  {
   "cell_type": "code",
   "execution_count": 7,
   "id": "c0e9c96b",
   "metadata": {},
   "outputs": [
    {
     "data": {
      "text/plain": [
       "([-1, 0, 1], list)"
      ]
     },
     "execution_count": 7,
     "metadata": {},
     "output_type": "execute_result"
    }
   ],
   "source": [
    "my_list, type(my_list) # here we are performing both steps together"
   ]
  },
  {
   "cell_type": "code",
   "execution_count": 8,
   "id": "7423055e",
   "metadata": {},
   "outputs": [],
   "source": [
    "my_array = np.array(my_list) #we have created numpy array using python list"
   ]
  },
  {
   "cell_type": "code",
   "execution_count": 10,
   "id": "79837fef",
   "metadata": {},
   "outputs": [
    {
     "data": {
      "text/plain": [
       "(array([-1,  0,  1]), numpy.ndarray)"
      ]
     },
     "execution_count": 10,
     "metadata": {},
     "output_type": "execute_result"
    }
   ],
   "source": [
    "my_array, type(my_array) #checking array and its type"
   ]
  },
  {
   "cell_type": "code",
   "execution_count": 11,
   "id": "d0deeb6f",
   "metadata": {},
   "outputs": [],
   "source": [
    "my_matrix = [[1,2,3],[4,5,6],[7,8,9]] # created two D array using lists of list "
   ]
  },
  {
   "cell_type": "code",
   "execution_count": 12,
   "id": "cb252a3a",
   "metadata": {},
   "outputs": [
    {
     "data": {
      "text/plain": [
       "([[1, 2, 3], [4, 5, 6], [7, 8, 9]], list)"
      ]
     },
     "execution_count": 12,
     "metadata": {},
     "output_type": "execute_result"
    }
   ],
   "source": [
    "my_matrix, type(my_matrix)"
   ]
  },
  {
   "cell_type": "code",
   "execution_count": 13,
   "id": "feec4af2",
   "metadata": {},
   "outputs": [],
   "source": [
    "matrix_one = np.array(my_matrix)"
   ]
  },
  {
   "cell_type": "code",
   "execution_count": 15,
   "id": "288966f5",
   "metadata": {},
   "outputs": [
    {
     "data": {
      "text/plain": [
       "(array([[1, 2, 3],\n",
       "        [4, 5, 6],\n",
       "        [7, 8, 9]]),\n",
       " numpy.ndarray)"
      ]
     },
     "execution_count": 15,
     "metadata": {},
     "output_type": "execute_result"
    }
   ],
   "source": [
    "matrix_one, type(matrix_one)"
   ]
  },
  {
   "cell_type": "markdown",
   "id": "d3cee2b2",
   "metadata": {},
   "source": [
    "### NOW WE ARE USING THE TUPLE"
   ]
  },
  {
   "cell_type": "code",
   "execution_count": 16,
   "id": "ed99ff85",
   "metadata": {},
   "outputs": [],
   "source": [
    "my_tuple = (-1,0,1)"
   ]
  },
  {
   "cell_type": "code",
   "execution_count": 17,
   "id": "7de65dae",
   "metadata": {},
   "outputs": [
    {
     "data": {
      "text/plain": [
       "((-1, 0, 1), tuple)"
      ]
     },
     "execution_count": 17,
     "metadata": {},
     "output_type": "execute_result"
    }
   ],
   "source": [
    "my_tuple, type(my_tuple)"
   ]
  },
  {
   "cell_type": "code",
   "execution_count": 18,
   "id": "9e075323",
   "metadata": {},
   "outputs": [],
   "source": [
    "my_array_t = np.array(my_tuple)"
   ]
  },
  {
   "cell_type": "code",
   "execution_count": 19,
   "id": "c1944f89",
   "metadata": {},
   "outputs": [
    {
     "data": {
      "text/plain": [
       "(array([-1,  0,  1]), numpy.ndarray)"
      ]
     },
     "execution_count": 19,
     "metadata": {},
     "output_type": "execute_result"
    }
   ],
   "source": [
    "my_array_t, type(my_array_t)"
   ]
  },
  {
   "cell_type": "markdown",
   "id": "96d4bdcc",
   "metadata": {},
   "source": [
    "### NOW WE ARE USING SOME BUILT IN FUNCTIONS OF NUMPY "
   ]
  },
  {
   "cell_type": "markdown",
   "id": "395b2634",
   "metadata": {},
   "source": [
    "#### 1. arange() \n",
    "The arange() function in NumPy is used to create arrays with evenly spaced values within a given interval. \n",
    "It’s similar to Python's built-in range() function \n",
    "but returns a NumPy array rather than a list, and it offers more flexibility in specifying the spacing between values."
   ]
  },
  {
   "cell_type": "markdown",
   "id": "7ba0f32b",
   "metadata": {},
   "source": [
    "SYNTAX: numpy.arange([start,] stop[, step,], dtype=None)"
   ]
  },
  {
   "cell_type": "code",
   "execution_count": 22,
   "id": "119a0f4d",
   "metadata": {},
   "outputs": [
    {
     "data": {
      "text/plain": [
       "array([ 0,  2,  4,  6,  8, 10])"
      ]
     },
     "execution_count": 22,
     "metadata": {},
     "output_type": "execute_result"
    }
   ],
   "source": [
    "np.arange(0,11,2) #we can check the documentation with shift tab "
   ]
  },
  {
   "cell_type": "code",
   "execution_count": 27,
   "id": "76f45142",
   "metadata": {},
   "outputs": [
    {
     "data": {
      "text/plain": [
       "array([ 0.,  2.,  4.,  6.,  8., 10.])"
      ]
     },
     "execution_count": 27,
     "metadata": {},
     "output_type": "execute_result"
    }
   ],
   "source": [
    "np.arange(0,11,2, dtype = float) #we can pass the datatype as well"
   ]
  },
  {
   "cell_type": "markdown",
   "id": "5cd19a1e",
   "metadata": {},
   "source": [
    "#### 2. Linspace()\n",
    "\n",
    "The linspace() function in NumPy is used to create an array of evenly spaced numbers over a specified range. \n",
    "Unlike arange(),which uses a step size, linspace() is defined by the number of elements you want between a start\n",
    "and stop value."
   ]
  },
  {
   "cell_type": "markdown",
   "id": "b445908c",
   "metadata": {},
   "source": [
    "SYNTAX : numpy.linspace(start, stop, num=50, endpoint=True, retstep=False, dtype=None, axis=0)\n",
    "\n",
    "    Parameters:\n",
    "start (required): The starting value of the sequence.\n",
    "\n",
    "stop (required): The end value of the sequence.\n",
    "\n",
    "num (optional): The number of equally spaced samples to generate. The default is 50.\n",
    "\n",
    "endpoint (optional): If True (default), stop is the last sample. If False, stop is excluded, and the spacing is adjusted.\n",
    "\n",
    "retstep (optional): If True, the function returns the step size between values in the array along with the array itself.\n",
    "\n",
    "dtype (optional): The data type of the output array. If not specified, it is inferred.\n",
    "\n",
    "axis (optional): The axis in the result array along which the values are spaced. Default is 0."
   ]
  },
  {
   "cell_type": "code",
   "execution_count": 31,
   "id": "3f540cde",
   "metadata": {},
   "outputs": [
    {
     "data": {
      "text/plain": [
       "array([ 1.,  2.,  3.,  4.,  5.,  6.,  7.,  8.,  9., 10., 11., 12., 13.,\n",
       "       14., 15.])"
      ]
     },
     "execution_count": 31,
     "metadata": {},
     "output_type": "execute_result"
    }
   ],
   "source": [
    "np.linspace(1,15,15) #3rd parameter will give 15 samples from this start and end point"
   ]
  },
  {
   "cell_type": "code",
   "execution_count": 33,
   "id": "1fa9fd6b",
   "metadata": {},
   "outputs": [
    {
     "data": {
      "text/plain": [
       "(array([ 1.,  2.,  3.,  4.,  5.,  6.,  7.,  8.,  9., 10., 11., 12., 13.,\n",
       "        14., 15.]),\n",
       " 1.0)"
      ]
     },
     "execution_count": 33,
     "metadata": {},
     "output_type": "execute_result"
    }
   ],
   "source": [
    "np.linspace(1,15,15, retstep = True ) # its telling that step size is 1 by giving 1. value at the end "
   ]
  },
  {
   "cell_type": "code",
   "execution_count": 35,
   "id": "653786ec",
   "metadata": {},
   "outputs": [
    {
     "data": {
      "text/plain": [
       "(array([ 1.        ,  1.48275862,  1.96551724,  2.44827586,  2.93103448,\n",
       "         3.4137931 ,  3.89655172,  4.37931034,  4.86206897,  5.34482759,\n",
       "         5.82758621,  6.31034483,  6.79310345,  7.27586207,  7.75862069,\n",
       "         8.24137931,  8.72413793,  9.20689655,  9.68965517, 10.17241379,\n",
       "        10.65517241, 11.13793103, 11.62068966, 12.10344828, 12.5862069 ,\n",
       "        13.06896552, 13.55172414, 14.03448276, 14.51724138, 15.        ]),\n",
       " 0.4827586206896552)"
      ]
     },
     "execution_count": 35,
     "metadata": {},
     "output_type": "execute_result"
    }
   ],
   "source": [
    "np.linspace(1,15,30, retstep = True ) # Another example with samples 30 and step size is .48 "
   ]
  },
  {
   "cell_type": "code",
   "execution_count": 39,
   "id": "cdf924e7",
   "metadata": {},
   "outputs": [],
   "source": [
    "# Create an array with 5 numbers between 1 and 10\n",
    "arr = np.linspace (1,10, num = 5)"
   ]
  },
  {
   "cell_type": "code",
   "execution_count": 40,
   "id": "5a6e87ac",
   "metadata": {},
   "outputs": [
    {
     "data": {
      "text/plain": [
       "array([ 1.  ,  3.25,  5.5 ,  7.75, 10.  ])"
      ]
     },
     "execution_count": 40,
     "metadata": {},
     "output_type": "execute_result"
    }
   ],
   "source": [
    "arr"
   ]
  },
  {
   "cell_type": "code",
   "execution_count": 41,
   "id": "ea5bb99d",
   "metadata": {},
   "outputs": [
    {
     "name": "stdout",
     "output_type": "stream",
     "text": [
      "[1.  2.8 4.6 6.4 8.2]\n"
     ]
    }
   ],
   "source": [
    "# Create an array with 5 numbers between 1 and 10, excluding 10\n",
    "arr = np.linspace(1, 10, num=5, endpoint=False)\n",
    "print(arr)"
   ]
  },
  {
   "cell_type": "code",
   "execution_count": 43,
   "id": "90b9f286",
   "metadata": {},
   "outputs": [
    {
     "data": {
      "text/plain": [
       "array([ 1.  ,  3.25,  5.5 ,  7.75, 10.  ])"
      ]
     },
     "execution_count": 43,
     "metadata": {},
     "output_type": "execute_result"
    }
   ],
   "source": [
    "#Create an array and also return the step size\n",
    "arr, step = np.linspace(1,10,num= 5, retstep = True)\n",
    "arr"
   ]
  },
  {
   "cell_type": "code",
   "execution_count": 44,
   "id": "e8ad13a1",
   "metadata": {},
   "outputs": [
    {
     "data": {
      "text/plain": [
       "2.25"
      ]
     },
     "execution_count": 44,
     "metadata": {},
     "output_type": "execute_result"
    }
   ],
   "source": [
    "step"
   ]
  },
  {
   "cell_type": "markdown",
   "id": "f6188735",
   "metadata": {},
   "source": [
    "#### 3. zeros()\n",
    "The zeros() function in NumPy is used to create a new array filled entirely with zeros. \n",
    "It’s often used to initialize arrays or matrices in various numerical and data processing tasks.\n",
    "\n",
    "SYNTAX : numpy.zeros(shape, dtype=float, order='C')\n",
    "\n",
    "    Parameters:\n",
    "##### shape (required): \n",
    "Specifies the shape of the array. This can be an integer for a 1D array or a tuple of integers for multi-dimensional arrays\n",
    "(e.g., (rows, columns) for a 2D array).\n",
    "##### dtype (optional): \n",
    "The desired data type for the array. The default is float.\n",
    "##### order (optional): \n",
    "Whether to store multi-dimensional data in row-major (C-style) or \n",
    "    column-major (Fortran-style) order. The default is 'C'."
   ]
  },
  {
   "cell_type": "code",
   "execution_count": 45,
   "id": "6523dd4f",
   "metadata": {},
   "outputs": [
    {
     "data": {
      "text/plain": [
       "array([0., 0., 0., 0., 0.])"
      ]
     },
     "execution_count": 45,
     "metadata": {},
     "output_type": "execute_result"
    }
   ],
   "source": [
    "# Create a 1D array of 5 zeros\n",
    "arr = np.zeros(5)\n",
    "arr"
   ]
  },
  {
   "cell_type": "code",
   "execution_count": 46,
   "id": "d0076120",
   "metadata": {},
   "outputs": [
    {
     "name": "stdout",
     "output_type": "stream",
     "text": [
      "[[0. 0. 0.]\n",
      " [0. 0. 0.]]\n"
     ]
    }
   ],
   "source": [
    "# Create a 2x3 array of zeros\n",
    "arr = np.zeros((2, 3))\n",
    "print(arr)"
   ]
  },
  {
   "cell_type": "code",
   "execution_count": 47,
   "id": "ca3f9fbe",
   "metadata": {},
   "outputs": [
    {
     "data": {
      "text/plain": [
       "array([[0, 0, 0],\n",
       "       [0, 0, 0]])"
      ]
     },
     "execution_count": 47,
     "metadata": {},
     "output_type": "execute_result"
    }
   ],
   "source": [
    "arr = np.zeros((2,3), dtype = int)\n",
    "arr"
   ]
  },
  {
   "cell_type": "markdown",
   "id": "875d02f1",
   "metadata": {},
   "source": [
    "### 4. ones()\n",
    "\n",
    "The ones() function in NumPy is used to create a new array filled entirely with ones. \n",
    "Like zeros(), it's often used to initialize arrays or matrices, but in this case, with all elements set to one.\n",
    "\n",
    "SYNTAX = numpy.ones(shape, dtype=None, order='C')\n",
    "\n",
    "Parameters:\n",
    "#### shape (required):\n",
    "Specifies the shape of the array. This can be an integer for a 1D array or a tuple of integers for multi-dimensional arrays (e.g., (rows, columns) for a 2D array).\n",
    "#### dtype (optional): \n",
    "The desired data type for the array. If not specified, it defaults to float.\n",
    "#### order (optional): \n",
    "Whether to store multi-dimensional data in row-major (C-style) or column-major (Fortran-style) order. The default is 'C'."
   ]
  },
  {
   "cell_type": "code",
   "execution_count": 48,
   "id": "ff40e5d6",
   "metadata": {},
   "outputs": [
    {
     "name": "stdout",
     "output_type": "stream",
     "text": [
      "[1. 1. 1. 1. 1.]\n"
     ]
    }
   ],
   "source": [
    "# Create a 1D array of 5 ones\n",
    "arr = np.ones(5)\n",
    "print(arr)"
   ]
  },
  {
   "cell_type": "code",
   "execution_count": 50,
   "id": "384bc9d4",
   "metadata": {},
   "outputs": [
    {
     "data": {
      "text/plain": [
       "array([[1., 1., 1.],\n",
       "       [1., 1., 1.]])"
      ]
     },
     "execution_count": 50,
     "metadata": {},
     "output_type": "execute_result"
    }
   ],
   "source": [
    "# Create a 2x3 array of ones\n",
    "arr = np.ones((2,3))\n",
    "arr"
   ]
  },
  {
   "cell_type": "code",
   "execution_count": 51,
   "id": "29d864cf",
   "metadata": {},
   "outputs": [
    {
     "data": {
      "text/plain": [
       "array([[1, 1, 1],\n",
       "       [1, 1, 1],\n",
       "       [1, 1, 1]])"
      ]
     },
     "execution_count": 51,
     "metadata": {},
     "output_type": "execute_result"
    }
   ],
   "source": [
    "# Create a 3x3 array of integer ones\n",
    "arr = np.ones((3,3), dtype = int)\n",
    "arr"
   ]
  },
  {
   "cell_type": "markdown",
   "id": "b774ea85",
   "metadata": {},
   "source": [
    "### 5. eye()\n",
    "\n",
    "The eye() function in NumPy is used to create a 2D array (or matrix) with ones on the diagonal and zeros elsewhere. \n",
    "This type of matrix is known as an identity matrix when it is square (i.e., the number of rows equals the number of columns)\n",
    "\n",
    "SYNTAX = numpy.eye(N, M=None, k=0, dtype=float, order='C')\n",
    "\n",
    "Parameters:\n",
    "#### N (required): \n",
    "The number of rows in the output array.\n",
    "#### M (optional): \n",
    "The number of columns in the output array. If not provided, M is set to N, resulting in a square matrix.\n",
    "#### k (optional): \n",
    "The index of the diagonal. The default is 0, which refers to the main diagonal. A positive value refers to an upper diagonal, while a negative value refers to a lower diagonal.\n",
    "#### dtype (optional):\n",
    "The data type of the output array. The default is float.\n",
    "#### order (optional): \n",
    "Whether to store multi-dimensional data in row-major (C-style) or column-major (Fortran-style) order. The default is 'C'."
   ]
  },
  {
   "cell_type": "code",
   "execution_count": 53,
   "id": "2cb9fa85",
   "metadata": {},
   "outputs": [
    {
     "data": {
      "text/plain": [
       "array([[1., 0., 0.],\n",
       "       [0., 1., 0.],\n",
       "       [0., 0., 1.]])"
      ]
     },
     "execution_count": 53,
     "metadata": {},
     "output_type": "execute_result"
    }
   ],
   "source": [
    "# Create a 3x3 identity matrix\n",
    "arr = np.eye(3)\n",
    "arr"
   ]
  },
  {
   "cell_type": "code",
   "execution_count": 54,
   "id": "cd3376c4",
   "metadata": {},
   "outputs": [
    {
     "data": {
      "text/plain": [
       "array([[1., 0., 0., 0.],\n",
       "       [0., 1., 0., 0.],\n",
       "       [0., 0., 1., 0.]])"
      ]
     },
     "execution_count": 54,
     "metadata": {},
     "output_type": "execute_result"
    }
   ],
   "source": [
    "# Create a 3x4 matrix with ones on the main diagonal\n",
    "arr = np.eye(3,4)\n",
    "arr"
   ]
  },
  {
   "cell_type": "code",
   "execution_count": 55,
   "id": "71510e68",
   "metadata": {},
   "outputs": [
    {
     "data": {
      "text/plain": [
       "array([[0., 1., 0.],\n",
       "       [0., 0., 1.],\n",
       "       [0., 0., 0.]])"
      ]
     },
     "execution_count": 55,
     "metadata": {},
     "output_type": "execute_result"
    }
   ],
   "source": [
    "# Create a 3x3 matrix with ones on the first upper diagonal\n",
    "arr = np.eye(3, k =1)\n",
    "arr"
   ]
  },
  {
   "cell_type": "code",
   "execution_count": 56,
   "id": "b3881391",
   "metadata": {},
   "outputs": [
    {
     "data": {
      "text/plain": [
       "array([[0., 0., 0.],\n",
       "       [1., 0., 0.],\n",
       "       [0., 1., 0.]])"
      ]
     },
     "execution_count": 56,
     "metadata": {},
     "output_type": "execute_result"
    }
   ],
   "source": [
    "# Create a 3x3 matrix with ones on the first down diagonal\n",
    "arr = np.eye(3, k = -1)\n",
    "arr"
   ]
  },
  {
   "cell_type": "code",
   "execution_count": 57,
   "id": "bd5ef503",
   "metadata": {},
   "outputs": [
    {
     "data": {
      "text/plain": [
       "array([[1, 0, 0],\n",
       "       [0, 1, 0],\n",
       "       [0, 0, 1]])"
      ]
     },
     "execution_count": 57,
     "metadata": {},
     "output_type": "execute_result"
    }
   ],
   "source": [
    "# Create a 3x3 identity matrix with integer type\n",
    "arr = np.eye(3, dtype = int)\n",
    "arr"
   ]
  },
  {
   "cell_type": "markdown",
   "id": "97fa2d34",
   "metadata": {},
   "source": [
    "### 6.random()\n",
    "\n",
    "The random() function in NumPy is used to generate random numbers or random arrays. It is part of the numpy.random module, \n",
    "which provides a suite of functions for generating random data in various distributions.\n",
    "\n"
   ]
  },
  {
   "cell_type": "markdown",
   "id": "e51dae8a",
   "metadata": {},
   "source": [
    "#### Basic Usage"
   ]
  },
  {
   "cell_type": "code",
   "execution_count": 63,
   "id": "e1aabf7a",
   "metadata": {},
   "outputs": [
    {
     "data": {
      "text/plain": [
       "0.766640306236073"
      ]
     },
     "execution_count": 63,
     "metadata": {},
     "output_type": "execute_result"
    }
   ],
   "source": [
    "# Generate a single random float between 0 and 1\n",
    "# evertime you run this cell, will give you different random number\n",
    "random_number = np.random.random()\n",
    "random_number"
   ]
  },
  {
   "cell_type": "markdown",
   "id": "13cd502b",
   "metadata": {},
   "source": [
    "#### Generating Random Arrays"
   ]
  },
  {
   "cell_type": "code",
   "execution_count": 64,
   "id": "3daf9ece",
   "metadata": {},
   "outputs": [
    {
     "data": {
      "text/plain": [
       "array([0.53962077, 0.47009255, 0.1328445 , 0.57020542, 0.35523955])"
      ]
     },
     "execution_count": 64,
     "metadata": {},
     "output_type": "execute_result"
    }
   ],
   "source": [
    "# Generate a 1D array of 5 random floats between 0 and 1\n",
    "arr = np.random.random(5)\n",
    "arr\n"
   ]
  },
  {
   "cell_type": "code",
   "execution_count": 65,
   "id": "7ebc840d",
   "metadata": {},
   "outputs": [
    {
     "data": {
      "text/plain": [
       "array([[0.44517224, 0.72895218, 0.54370881],\n",
       "       [0.51634284, 0.3236563 , 0.27343648]])"
      ]
     },
     "execution_count": 65,
     "metadata": {},
     "output_type": "execute_result"
    }
   ],
   "source": [
    "# Generate a 2x3 array of random floats between 0 and 1\n",
    "arr = np.random.random((2,3))\n",
    "arr"
   ]
  },
  {
   "cell_type": "markdown",
   "id": "45a90ebc",
   "metadata": {},
   "source": [
    "#### Some functions used under random"
   ]
  },
  {
   "cell_type": "markdown",
   "id": "c84fb8ef",
   "metadata": {},
   "source": [
    "######  (i) The rand() function \n",
    "in NumPyis used to generate an array of random numbers that are uniformly distributed between 0 and 1. Unlike random(),\n",
    "which requires specifying the shape as a tuple, rand() allows you to directly specify the dimensions as separate arguments\n",
    "\n",
    "##### Generate a single random float between 0 and 1\n",
    "random_number = np.random.rand()\n",
    "\n",
    "print(random_number)\n",
    "\n",
    "##### Generate a 1D array of 5 random floats between 0 and 1\n",
    "arr = np.random.rand(5)\n",
    "\n",
    "print(arr)\n",
    "\n",
    "##### Generate a 2x3 array of random floats between 0 and 1\n",
    "arr = np.random.rand(2, 3)\n",
    "\n",
    "print(arr)\n",
    "\n",
    "##### Generate a 3x3x3 array of random floats between 0 and 1\n",
    "arr = np.random.rand(3, 3, 3)\n",
    "\n",
    "print(arr)\n",
    "\n",
    "The numbers generated by rand() are uniformly distributed in the interval [0.0, 1.0), meaning every number in this range has an equal probability of being selected."
   ]
  },
  {
   "cell_type": "markdown",
   "id": "daf331ec",
   "metadata": {},
   "source": [
    "##### (ii) The randn() function \n",
    "in NumPy is used to generate an array of random numbers drawn from a standard normal distribution (Gaussian distribution) with a mean of 0 and a standard deviation of 1. \n",
    "This function is useful for simulations and data analysis where normally distributed random data is required.\n",
    "\n",
    "###### Key Points:\n",
    "    \n",
    "Normal Distribution: randn() generates values from a standard normal distribution,\n",
    "    where the mean is 0 and the standard deviation is 1. This is useful in scenarios where data follows a normal distribution."
   ]
  },
  {
   "cell_type": "markdown",
   "id": "214f1a77",
   "metadata": {},
   "source": [
    "#### (iii) The randint() function\n",
    "in NumPy is used to generate random integers within a specified range. \n",
    "It is useful for tasks where you need random integer values, such as in simulations, random sampling, and data generation\n",
    "\n",
    "SYNTAX = numpy.random.randint(low, high=None, size=None, dtype=int)\n",
    "\n",
    "Parameters:\n",
    "##### low (required): \n",
    "The lower bound (inclusive) of the range of random integers to be generated.\n",
    "##### high (optional): \n",
    "The upper bound (exclusive) of the range. If not specified, low is treated as the upper bound, and the range is [0, low).\n",
    "##### size (optional):\n",
    "The shape of the output array. If not specified, a single integer is returned.\n",
    "##### dtype (optional): \n",
    "The data type of the output array. The default is int."
   ]
  },
  {
   "cell_type": "code",
   "execution_count": 66,
   "id": "329db90b",
   "metadata": {},
   "outputs": [
    {
     "name": "stdout",
     "output_type": "stream",
     "text": [
      "8\n"
     ]
    }
   ],
   "source": [
    "# Generate a single random integer between 0 (inclusive) and 10 (exclusive)\n",
    "random_integer = np.random.randint(10)\n",
    "print(random_integer)"
   ]
  },
  {
   "cell_type": "code",
   "execution_count": 67,
   "id": "aa114d5f",
   "metadata": {},
   "outputs": [
    {
     "name": "stdout",
     "output_type": "stream",
     "text": [
      "5\n"
     ]
    }
   ],
   "source": [
    "# Generate a single random integer between 5 (inclusive) and 15 (exclusive)\n",
    "random_integer = np.random.randint(5, 15)\n",
    "print(random_integer)"
   ]
  },
  {
   "cell_type": "code",
   "execution_count": 68,
   "id": "077d7f5b",
   "metadata": {},
   "outputs": [
    {
     "name": "stdout",
     "output_type": "stream",
     "text": [
      "[9 0 5 0 3]\n"
     ]
    }
   ],
   "source": [
    "# Generate a 1D array of 5 random integers between 0 (inclusive) and 10 (exclusive)\n",
    "arr = np.random.randint(10, size=5)\n",
    "print(arr)"
   ]
  },
  {
   "cell_type": "code",
   "execution_count": 69,
   "id": "65716356",
   "metadata": {},
   "outputs": [
    {
     "name": "stdout",
     "output_type": "stream",
     "text": [
      "[[ 6  8  9]\n",
      " [ 7 11  4]]\n"
     ]
    }
   ],
   "source": [
    "# Generate a 2x3 array of random integers between 1 (inclusive) and 20 (exclusive)\n",
    "arr = np.random.randint(1, 20, size=(2, 3))\n",
    "print(arr)"
   ]
  },
  {
   "cell_type": "code",
   "execution_count": 70,
   "id": "4e0d22ce",
   "metadata": {},
   "outputs": [
    {
     "name": "stdout",
     "output_type": "stream",
     "text": [
      "[[41 25 48]\n",
      " [26 32 44]\n",
      " [39 22 20]]\n"
     ]
    }
   ],
   "source": [
    "# Generate a 3x3 array of random integers between 10 (inclusive) and 50 (exclusive) with dtype as int32\n",
    "arr = np.random.randint(10, 50, size=(3, 3), dtype=np.int32)\n",
    "print(arr)"
   ]
  },
  {
   "cell_type": "code",
   "execution_count": 72,
   "id": "8a7a07c2",
   "metadata": {},
   "outputs": [
    {
     "data": {
      "text/plain": [
       "array([48, 11, 35, 48, 20])"
      ]
     },
     "execution_count": 72,
     "metadata": {},
     "output_type": "execute_result"
    }
   ],
   "source": [
    "arr = np.random.randint(10, 50,5) #this will give you 5 numbers including 10 and excluding 50\n",
    "arr"
   ]
  },
  {
   "cell_type": "code",
   "execution_count": 74,
   "id": "37c46f20",
   "metadata": {},
   "outputs": [
    {
     "data": {
      "text/plain": [
       "array([[ 57, 112, 144, 125,  30],\n",
       "       [  8, 104, 112, 141, 152],\n",
       "       [171, 199,  94, 132, 103],\n",
       "       [186, 100,  59, 105,  53]])"
      ]
     },
     "execution_count": 74,
     "metadata": {},
     "output_type": "execute_result"
    }
   ],
   "source": [
    "arr = np.random.randint(5,200, (4,5)) # will generate the matrix\n",
    "arr"
   ]
  },
  {
   "cell_type": "code",
   "execution_count": 75,
   "id": "fd71f044",
   "metadata": {},
   "outputs": [],
   "source": [
    "# Now lets create two arrays while using numpy functions "
   ]
  },
  {
   "cell_type": "code",
   "execution_count": 76,
   "id": "65392b17",
   "metadata": {},
   "outputs": [],
   "source": [
    "array_arange = np.arange(16)"
   ]
  },
  {
   "cell_type": "code",
   "execution_count": 77,
   "id": "b0ed9ccd",
   "metadata": {},
   "outputs": [],
   "source": [
    "array_ranint = np.random.randint(0,100,10)"
   ]
  },
  {
   "cell_type": "code",
   "execution_count": 78,
   "id": "238b3ca3",
   "metadata": {},
   "outputs": [
    {
     "data": {
      "text/plain": [
       "array([ 0,  1,  2,  3,  4,  5,  6,  7,  8,  9, 10, 11, 12, 13, 14, 15])"
      ]
     },
     "execution_count": 78,
     "metadata": {},
     "output_type": "execute_result"
    }
   ],
   "source": [
    "array_arange"
   ]
  },
  {
   "cell_type": "code",
   "execution_count": 79,
   "id": "dfde6f55",
   "metadata": {},
   "outputs": [
    {
     "data": {
      "text/plain": [
       "array([ 0,  7, 77, 97, 20, 88, 29, 86,  2, 12])"
      ]
     },
     "execution_count": 79,
     "metadata": {},
     "output_type": "execute_result"
    }
   ],
   "source": [
    "array_ranint"
   ]
  },
  {
   "cell_type": "markdown",
   "id": "e6445504",
   "metadata": {},
   "source": [
    "#### lets use reshape() function "
   ]
  },
  {
   "cell_type": "markdown",
   "id": "1b303f33",
   "metadata": {},
   "source": [
    "##### The reshape() function\n",
    "in NumPy is used to change the shape of an existing array without changing its data. \n",
    "This function is useful for transforming arrays into different dimensions or structures to fit the \n",
    "needs of various algorithms and data processing tasks.\n",
    "\n",
    "SYNTAX : numpy.reshape(a, newshape, order='C')\n",
    "\n",
    "Parameters:\n",
    "#### a (required):\n",
    "The array to be reshaped.\n",
    "### newshape (required): \n",
    "The desired shape of the array. This can be specified as a tuple of integers or a single integer. One dimension can be specified as -1, which means it will be inferred based on the length of the array and the other dimensions.\n",
    "### order (optional):\n",
    "Determines the order in which the array is read/written. 'C' means row-major (C-style) order, while 'F' means column-major (Fortran-style) order. The default is 'C'."
   ]
  },
  {
   "cell_type": "code",
   "execution_count": 81,
   "id": "da54c45a",
   "metadata": {},
   "outputs": [
    {
     "data": {
      "text/plain": [
       "array([[ 0,  1,  2,  3],\n",
       "       [ 4,  5,  6,  7],\n",
       "       [ 8,  9, 10, 11],\n",
       "       [12, 13, 14, 15]])"
      ]
     },
     "execution_count": 81,
     "metadata": {},
     "output_type": "execute_result"
    }
   ],
   "source": [
    "array_arange.reshape(4,4) #Here we used reshape function , and transformed the one D to 4x4"
   ]
  },
  {
   "cell_type": "code",
   "execution_count": 82,
   "id": "5802d717",
   "metadata": {},
   "outputs": [
    {
     "data": {
      "text/plain": [
       "97"
      ]
     },
     "execution_count": 82,
     "metadata": {},
     "output_type": "execute_result"
    }
   ],
   "source": [
    "array_ranint.max() #max function will return you maximum value"
   ]
  },
  {
   "cell_type": "code",
   "execution_count": 84,
   "id": "1911984e",
   "metadata": {},
   "outputs": [
    {
     "data": {
      "text/plain": [
       "0"
      ]
     },
     "execution_count": 84,
     "metadata": {},
     "output_type": "execute_result"
    }
   ],
   "source": [
    "array_ranint.min() # min function will return you minimum value "
   ]
  },
  {
   "cell_type": "code",
   "execution_count": 87,
   "id": "7a325dba",
   "metadata": {},
   "outputs": [],
   "source": [
    "#Next is argmax() and argmin() , is used to find the index location of max and min value"
   ]
  },
  {
   "cell_type": "code",
   "execution_count": 88,
   "id": "2fd2c843",
   "metadata": {},
   "outputs": [
    {
     "data": {
      "text/plain": [
       "3"
      ]
     },
     "execution_count": 88,
     "metadata": {},
     "output_type": "execute_result"
    }
   ],
   "source": [
    "array_ranint.argmax()"
   ]
  },
  {
   "cell_type": "code",
   "execution_count": 89,
   "id": "32f966eb",
   "metadata": {},
   "outputs": [
    {
     "data": {
      "text/plain": [
       "0"
      ]
     },
     "execution_count": 89,
     "metadata": {},
     "output_type": "execute_result"
    }
   ],
   "source": [
    "array_ranint.argmin()"
   ]
  },
  {
   "cell_type": "code",
   "execution_count": 92,
   "id": "921af78b",
   "metadata": {},
   "outputs": [
    {
     "data": {
      "text/plain": [
       "16"
      ]
     },
     "execution_count": 92,
     "metadata": {},
     "output_type": "execute_result"
    }
   ],
   "source": [
    "array_arange.size #checking the size of array"
   ]
  },
  {
   "cell_type": "code",
   "execution_count": 93,
   "id": "faaf7617",
   "metadata": {},
   "outputs": [
    {
     "data": {
      "text/plain": [
       "(16,)"
      ]
     },
     "execution_count": 93,
     "metadata": {},
     "output_type": "execute_result"
    }
   ],
   "source": [
    "array_arange.shape #checking the shape of array"
   ]
  },
  {
   "cell_type": "code",
   "execution_count": 95,
   "id": "455d8422",
   "metadata": {},
   "outputs": [
    {
     "data": {
      "text/plain": [
       "dtype('int32')"
      ]
     },
     "execution_count": 95,
     "metadata": {},
     "output_type": "execute_result"
    }
   ],
   "source": [
    "array_arange.dtype #checking the data type of array"
   ]
  },
  {
   "cell_type": "code",
   "execution_count": 97,
   "id": "7a654485",
   "metadata": {},
   "outputs": [
    {
     "data": {
      "text/plain": [
       "(4, 4)"
      ]
     },
     "execution_count": 97,
     "metadata": {},
     "output_type": "execute_result"
    }
   ],
   "source": [
    "array_arange.reshape(4,4).shape #First reshape the array and then checking the size of array"
   ]
  },
  {
   "cell_type": "markdown",
   "id": "515077c1",
   "metadata": {},
   "source": [
    "### PART 2"
   ]
  },
  {
   "cell_type": "markdown",
   "id": "1f9f72b8",
   "metadata": {},
   "source": [
    "##### Indexing, Slicing, Broadcasting, Boolean Masking "
   ]
  },
  {
   "cell_type": "code",
   "execution_count": 98,
   "id": "4f7bf9a5",
   "metadata": {},
   "outputs": [],
   "source": [
    "array_1d = np.array (([-10,-2,0,2,17,106,200])) #created an array"
   ]
  },
  {
   "cell_type": "code",
   "execution_count": 99,
   "id": "3b07a0d8",
   "metadata": {},
   "outputs": [
    {
     "data": {
      "text/plain": [
       "array([-10,  -2,   0,   2,  17, 106, 200])"
      ]
     },
     "execution_count": 99,
     "metadata": {},
     "output_type": "execute_result"
    }
   ],
   "source": [
    "array_1d"
   ]
  },
  {
   "cell_type": "code",
   "execution_count": 100,
   "id": "7a504534",
   "metadata": {},
   "outputs": [
    {
     "data": {
      "text/plain": [
       "-10"
      ]
     },
     "execution_count": 100,
     "metadata": {},
     "output_type": "execute_result"
    }
   ],
   "source": [
    "array_1d[0] #checking value at index 0"
   ]
  },
  {
   "cell_type": "code",
   "execution_count": 101,
   "id": "1a66ff8d",
   "metadata": {},
   "outputs": [
    {
     "data": {
      "text/plain": [
       "array([-10,  -2,   0])"
      ]
     },
     "execution_count": 101,
     "metadata": {},
     "output_type": "execute_result"
    }
   ],
   "source": [
    "array_1d[0:3] # will give values of index 0,1,2"
   ]
  },
  {
   "cell_type": "code",
   "execution_count": 102,
   "id": "52a19792",
   "metadata": {},
   "outputs": [
    {
     "data": {
      "text/plain": [
       "(array([-10,  -2,   0]), array([-10,  -2,   0,   2,  17, 106, 200]))"
      ]
     },
     "execution_count": 102,
     "metadata": {},
     "output_type": "execute_result"
    }
   ],
   "source": [
    "array_1d[0:3], array_1d"
   ]
  },
  {
   "cell_type": "code",
   "execution_count": 103,
   "id": "7f521eb2",
   "metadata": {},
   "outputs": [
    {
     "data": {
      "text/plain": [
       "(106, array([-10,  -2,   0,   2,  17, 106, 200]))"
      ]
     },
     "execution_count": 103,
     "metadata": {},
     "output_type": "execute_result"
    }
   ],
   "source": [
    "array_1d[-2], array_1d # will give values of index -2"
   ]
  },
  {
   "cell_type": "code",
   "execution_count": 104,
   "id": "36a29d2b",
   "metadata": {},
   "outputs": [
    {
     "data": {
      "text/plain": [
       "(array([-10,  -2]), array([-10,  -2,   0,   2,  17, 106, 200]))"
      ]
     },
     "execution_count": 104,
     "metadata": {},
     "output_type": "execute_result"
    }
   ],
   "source": [
    "array_1d[:2], array_1d # will give values of index 0,1 , excluding 2"
   ]
  },
  {
   "cell_type": "code",
   "execution_count": 105,
   "id": "61c41e02",
   "metadata": {},
   "outputs": [
    {
     "data": {
      "text/plain": [
       "(array([  0,   2,  17, 106, 200]), array([-10,  -2,   0,   2,  17, 106, 200]))"
      ]
     },
     "execution_count": 105,
     "metadata": {},
     "output_type": "execute_result"
    }
   ],
   "source": [
    "array_1d[2:], array_1d # will give values of index 2 onwards"
   ]
  },
  {
   "cell_type": "code",
   "execution_count": 107,
   "id": "b9484997",
   "metadata": {},
   "outputs": [
    {
     "data": {
      "text/plain": [
       "array([ 0,  1,  2,  3,  4,  5,  6,  7,  8,  9, 10, 11, 12, 13, 14, 15, 16,\n",
       "       17, 18, 19, 20, 21, 22, 23])"
      ]
     },
     "execution_count": 107,
     "metadata": {},
     "output_type": "execute_result"
    }
   ],
   "source": [
    "array_2d = np.arange(24) \n",
    "array_2d"
   ]
  },
  {
   "cell_type": "code",
   "execution_count": 108,
   "id": "18ff9ad5",
   "metadata": {},
   "outputs": [
    {
     "data": {
      "text/plain": [
       "array([[ 0,  1,  2,  3],\n",
       "       [ 4,  5,  6,  7],\n",
       "       [ 8,  9, 10, 11],\n",
       "       [12, 13, 14, 15],\n",
       "       [16, 17, 18, 19],\n",
       "       [20, 21, 22, 23]])"
      ]
     },
     "execution_count": 108,
     "metadata": {},
     "output_type": "execute_result"
    }
   ],
   "source": [
    "array_2d = np.arange(24).reshape(6,4) #creating 2D array while reshaping\n",
    "array_2d"
   ]
  },
  {
   "cell_type": "code",
   "execution_count": 111,
   "id": "6da8fcaf",
   "metadata": {},
   "outputs": [
    {
     "data": {
      "text/plain": [
       "11"
      ]
     },
     "execution_count": 111,
     "metadata": {},
     "output_type": "execute_result"
    }
   ],
   "source": [
    "#array_2d [row][column]\n",
    "array_2d[2,3] #checking specific values by giving row and col values"
   ]
  },
  {
   "cell_type": "code",
   "execution_count": 112,
   "id": "a3289ae8",
   "metadata": {},
   "outputs": [
    {
     "data": {
      "text/plain": [
       "array([4, 5, 6, 7])"
      ]
     },
     "execution_count": 112,
     "metadata": {},
     "output_type": "execute_result"
    }
   ],
   "source": [
    "array_2d[1] #will provide row at 1 location"
   ]
  },
  {
   "cell_type": "code",
   "execution_count": 114,
   "id": "f3026c33",
   "metadata": {},
   "outputs": [
    {
     "data": {
      "text/plain": [
       "11"
      ]
     },
     "execution_count": 114,
     "metadata": {},
     "output_type": "execute_result"
    }
   ],
   "source": [
    "row = 2\n",
    "column = 3\n",
    "array_2d[row,column] # we created row and column variables and then \n",
    "#called their values and will give you return value at that particular location"
   ]
  },
  {
   "cell_type": "code",
   "execution_count": 115,
   "id": "6cdb0830",
   "metadata": {},
   "outputs": [
    {
     "data": {
      "text/plain": [
       "array([[10, 11],\n",
       "       [14, 15]])"
      ]
     },
     "execution_count": 115,
     "metadata": {},
     "output_type": "execute_result"
    }
   ],
   "source": [
    "array_2d[2:4,2:4] # we are getting values 2 to 4 from rows , 2 to 4 from columns"
   ]
  },
  {
   "cell_type": "markdown",
   "id": "e2d340a0",
   "metadata": {},
   "source": [
    "### Broadcasting "
   ]
  },
  {
   "cell_type": "code",
   "execution_count": 119,
   "id": "81a2277d",
   "metadata": {},
   "outputs": [
    {
     "data": {
      "text/plain": [
       "array([ 1,  2,  3,  4,  5,  6,  7,  8,  9, 10])"
      ]
     },
     "execution_count": 119,
     "metadata": {},
     "output_type": "execute_result"
    }
   ],
   "source": [
    "array_1d = np.arange(1,11)\n",
    "array_1d"
   ]
  },
  {
   "cell_type": "code",
   "execution_count": 121,
   "id": "259ec365",
   "metadata": {},
   "outputs": [
    {
     "data": {
      "text/plain": [
       "array([200, 200, 200, 200, 200,   6,   7,   8,   9,  10])"
      ]
     },
     "execution_count": 121,
     "metadata": {},
     "output_type": "execute_result"
    }
   ],
   "source": [
    "array_1d[0:5] = 200  #we have passed the slicer with the broadcast value 200, so from 0 to 4 indexx values will be replace by 200\n",
    "array_1d"
   ]
  },
  {
   "cell_type": "code",
   "execution_count": 122,
   "id": "b330a6f4",
   "metadata": {},
   "outputs": [
    {
     "data": {
      "text/plain": [
       "array([[1., 1., 1., 1.],\n",
       "       [1., 1., 1., 1.],\n",
       "       [1., 1., 1., 1.],\n",
       "       [1., 1., 1., 1.]])"
      ]
     },
     "execution_count": 122,
     "metadata": {},
     "output_type": "execute_result"
    }
   ],
   "source": [
    "array_2d = np.ones((4,4))\n",
    "array_2d"
   ]
  },
  {
   "cell_type": "code",
   "execution_count": 123,
   "id": "8e830bf1",
   "metadata": {},
   "outputs": [
    {
     "data": {
      "text/plain": [
       "array([[100., 100., 100., 100.],\n",
       "       [  1.,   1.,   1.,   1.],\n",
       "       [  1.,   1.,   1.,   1.],\n",
       "       [  1.,   1.,   1.,   1.]])"
      ]
     },
     "execution_count": 123,
     "metadata": {},
     "output_type": "execute_result"
    }
   ],
   "source": [
    "array_2d[0] = 100\n",
    "array_2d"
   ]
  },
  {
   "cell_type": "code",
   "execution_count": 127,
   "id": "e3611a59",
   "metadata": {},
   "outputs": [
    {
     "data": {
      "text/plain": [
       "array([0, 1, 2, 3])"
      ]
     },
     "execution_count": 127,
     "metadata": {},
     "output_type": "execute_result"
    }
   ],
   "source": [
    "arr = np.arange(0,4)\n",
    "arr"
   ]
  },
  {
   "cell_type": "code",
   "execution_count": 128,
   "id": "7ab97b84",
   "metadata": {},
   "outputs": [
    {
     "data": {
      "text/plain": [
       "array([[100., 101., 102., 103.],\n",
       "       [  1.,   2.,   3.,   4.],\n",
       "       [  1.,   2.,   3.,   4.],\n",
       "       [  1.,   2.,   3.,   4.]])"
      ]
     },
     "execution_count": 128,
     "metadata": {},
     "output_type": "execute_result"
    }
   ],
   "source": [
    "array_2d + arr #If we are adding arrays then second array supposed to have same number of columns"
   ]
  },
  {
   "cell_type": "code",
   "execution_count": 130,
   "id": "a1c97c53",
   "metadata": {},
   "outputs": [
    {
     "data": {
      "text/plain": [
       "array([4, 5, 6, 7])"
      ]
     },
     "execution_count": 130,
     "metadata": {},
     "output_type": "execute_result"
    }
   ],
   "source": [
    "arrr = np.arange(4,8)\n",
    "arrr"
   ]
  },
  {
   "cell_type": "code",
   "execution_count": 131,
   "id": "e86445ce",
   "metadata": {},
   "outputs": [
    {
     "data": {
      "text/plain": [
       "array([[104., 106., 108., 110.],\n",
       "       [  5.,   7.,   9.,  11.],\n",
       "       [  5.,   7.,   9.,  11.],\n",
       "       [  5.,   7.,   9.,  11.]])"
      ]
     },
     "execution_count": 131,
     "metadata": {},
     "output_type": "execute_result"
    }
   ],
   "source": [
    "array_2d + arr +arrr #here we add three arrays "
   ]
  },
  {
   "cell_type": "code",
   "execution_count": 132,
   "id": "eacf3cb7",
   "metadata": {},
   "outputs": [
    {
     "data": {
      "text/plain": [
       "array([0, 1, 2])"
      ]
     },
     "execution_count": 132,
     "metadata": {},
     "output_type": "execute_result"
    }
   ],
   "source": [
    "np.arange(3)"
   ]
  },
  {
   "cell_type": "code",
   "execution_count": 133,
   "id": "47b8e904",
   "metadata": {},
   "outputs": [
    {
     "data": {
      "text/plain": [
       "array([5, 6, 7])"
      ]
     },
     "execution_count": 133,
     "metadata": {},
     "output_type": "execute_result"
    }
   ],
   "source": [
    "np.arange(3) + 5 #broadcarted with value 5 in row"
   ]
  },
  {
   "cell_type": "code",
   "execution_count": 134,
   "id": "4ba92f3b",
   "metadata": {},
   "outputs": [
    {
     "data": {
      "text/plain": [
       "array([[1., 1., 1.],\n",
       "       [1., 1., 1.],\n",
       "       [1., 1., 1.]])"
      ]
     },
     "execution_count": 134,
     "metadata": {},
     "output_type": "execute_result"
    }
   ],
   "source": [
    " np.ones((3,3))"
   ]
  },
  {
   "cell_type": "code",
   "execution_count": 135,
   "id": "c97a56db",
   "metadata": {},
   "outputs": [
    {
     "data": {
      "text/plain": [
       "array([[1., 2., 3.],\n",
       "       [1., 2., 3.],\n",
       "       [1., 2., 3.]])"
      ]
     },
     "execution_count": 135,
     "metadata": {},
     "output_type": "execute_result"
    }
   ],
   "source": [
    " np.ones((3,3)) + np.arange(3)"
   ]
  },
  {
   "cell_type": "code",
   "execution_count": 143,
   "id": "23589f32",
   "metadata": {},
   "outputs": [
    {
     "data": {
      "text/plain": [
       "array([[0],\n",
       "       [1],\n",
       "       [2]])"
      ]
     },
     "execution_count": 143,
     "metadata": {},
     "output_type": "execute_result"
    }
   ],
   "source": [
    "np.arange((3)).reshape((3,1))"
   ]
  },
  {
   "cell_type": "code",
   "execution_count": 144,
   "id": "21d50fd4",
   "metadata": {},
   "outputs": [
    {
     "data": {
      "text/plain": [
       "array([0, 1, 2])"
      ]
     },
     "execution_count": 144,
     "metadata": {},
     "output_type": "execute_result"
    }
   ],
   "source": [
    "np.arange(3)"
   ]
  },
  {
   "cell_type": "code",
   "execution_count": 145,
   "id": "6417b322",
   "metadata": {},
   "outputs": [
    {
     "data": {
      "text/plain": [
       "array([[0, 1, 2],\n",
       "       [1, 2, 3],\n",
       "       [2, 3, 4]])"
      ]
     },
     "execution_count": 145,
     "metadata": {},
     "output_type": "execute_result"
    }
   ],
   "source": [
    "#Lets add above both cells\n",
    "np.arange((3)).reshape((3,1)) + np.arange(3)"
   ]
  },
  {
   "cell_type": "code",
   "execution_count": 146,
   "id": "b44279e0",
   "metadata": {},
   "outputs": [
    {
     "data": {
      "text/plain": [
       "array([0, 1, 2, 3])"
      ]
     },
     "execution_count": 146,
     "metadata": {},
     "output_type": "execute_result"
    }
   ],
   "source": [
    "arr"
   ]
  },
  {
   "cell_type": "code",
   "execution_count": 147,
   "id": "b323a84f",
   "metadata": {},
   "outputs": [
    {
     "data": {
      "text/plain": [
       "array([[0],\n",
       "       [1],\n",
       "       [2],\n",
       "       [3]])"
      ]
     },
     "execution_count": 147,
     "metadata": {},
     "output_type": "execute_result"
    }
   ],
   "source": [
    "arr2 = np.arange(0,4)[:,np.newaxis]\n",
    "arr2"
   ]
  },
  {
   "cell_type": "code",
   "execution_count": 148,
   "id": "6a185d08",
   "metadata": {},
   "outputs": [
    {
     "data": {
      "text/plain": [
       "array([[0, 1, 2, 3],\n",
       "       [1, 2, 3, 4],\n",
       "       [2, 3, 4, 5],\n",
       "       [3, 4, 5, 6]])"
      ]
     },
     "execution_count": 148,
     "metadata": {},
     "output_type": "execute_result"
    }
   ],
   "source": [
    "arr2 +arr"
   ]
  },
  {
   "cell_type": "markdown",
   "id": "160f4f0f",
   "metadata": {},
   "source": [
    "### Fancy Indexing"
   ]
  },
  {
   "cell_type": "code",
   "execution_count": 149,
   "id": "4d43bdbf",
   "metadata": {},
   "outputs": [
    {
     "data": {
      "text/plain": [
       "array([[0., 0., 0., 0., 0.],\n",
       "       [1., 1., 1., 1., 1.],\n",
       "       [2., 2., 2., 2., 2.],\n",
       "       [3., 3., 3., 3., 3.],\n",
       "       [4., 4., 4., 4., 4.]])"
      ]
     },
     "execution_count": 149,
     "metadata": {},
     "output_type": "execute_result"
    }
   ],
   "source": [
    "array_2d = np.zeros((5,5))   #create a zero matrix\n",
    "array_2d.shape[1]            #using shape attribute , get the number to run the loop\n",
    "for i in range(array_2d.shape[1]): # using range in the loop\n",
    "    array_2d[i] = i\n",
    "array_2d                       # print the matrix"
   ]
  },
  {
   "cell_type": "code",
   "execution_count": 150,
   "id": "9f1f8baf",
   "metadata": {},
   "outputs": [
    {
     "data": {
      "text/plain": [
       "array([[1., 1., 1., 1., 1.],\n",
       "       [2., 2., 2., 2., 2.],\n",
       "       [3., 3., 3., 3., 3.]])"
      ]
     },
     "execution_count": 150,
     "metadata": {},
     "output_type": "execute_result"
    }
   ],
   "source": [
    "array_2d[[1,2,3]] # will give rows 1, 2,3"
   ]
  },
  {
   "cell_type": "code",
   "execution_count": 151,
   "id": "730aaff7",
   "metadata": {},
   "outputs": [
    {
     "data": {
      "text/plain": [
       "array([[3., 3., 3., 3., 3.],\n",
       "       [0., 0., 0., 0., 0.],\n",
       "       [1., 1., 1., 1., 1.]])"
      ]
     },
     "execution_count": 151,
     "metadata": {},
     "output_type": "execute_result"
    }
   ],
   "source": [
    "array_2d[[3,0,1]]"
   ]
  },
  {
   "cell_type": "code",
   "execution_count": 158,
   "id": "06e7823b",
   "metadata": {},
   "outputs": [
    {
     "data": {
      "text/plain": [
       "array([[ 0,  1,  2,  3],\n",
       "       [ 4,  5,  6,  7],\n",
       "       [ 8,  9, 10, 11],\n",
       "       [12, 13, 14, 15],\n",
       "       [16, 17, 18, 19],\n",
       "       [20, 21, 22, 23]])"
      ]
     },
     "execution_count": 158,
     "metadata": {},
     "output_type": "execute_result"
    }
   ],
   "source": [
    "#lets try another matrix\n",
    "array_2d = np.arange(24) #created matrix\n",
    "array_2d.shape = (6,4) # created shape of 6 rows 4 columns\n",
    "array_2d"
   ]
  },
  {
   "cell_type": "code",
   "execution_count": 161,
   "id": "0235b3d4",
   "metadata": {},
   "outputs": [
    {
     "data": {
      "text/plain": [
       "array([[ 8,  9, 10, 11],\n",
       "       [16, 17, 18, 19]])"
      ]
     },
     "execution_count": 161,
     "metadata": {},
     "output_type": "execute_result"
    }
   ],
   "source": [
    "array_2d[[2,4]] #getting rows"
   ]
  },
  {
   "cell_type": "code",
   "execution_count": 162,
   "id": "a6990b35",
   "metadata": {},
   "outputs": [
    {
     "data": {
      "text/plain": [
       "array([[20, 21, 22, 23],\n",
       "       [ 0,  1,  2,  3]])"
      ]
     },
     "execution_count": 162,
     "metadata": {},
     "output_type": "execute_result"
    }
   ],
   "source": [
    "array_2d[[5,0]] #getting rows in any order"
   ]
  },
  {
   "cell_type": "code",
   "execution_count": 164,
   "id": "7affa5c1",
   "metadata": {},
   "outputs": [
    {
     "data": {
      "text/plain": [
       "array([[ 2,  3],\n",
       "       [ 6,  7],\n",
       "       [10, 11],\n",
       "       [14, 15],\n",
       "       [18, 19],\n",
       "       [22, 23]])"
      ]
     },
     "execution_count": 164,
     "metadata": {},
     "output_type": "execute_result"
    }
   ],
   "source": [
    " array_2d[:,[2,3]] #getting columns"
   ]
  },
  {
   "cell_type": "code",
   "execution_count": 166,
   "id": "cd5d670b",
   "metadata": {},
   "outputs": [
    {
     "data": {
      "text/plain": [
       "array([[ 3,  0],\n",
       "       [ 7,  4],\n",
       "       [11,  8],\n",
       "       [15, 12],\n",
       "       [19, 16],\n",
       "       [23, 20]])"
      ]
     },
     "execution_count": 166,
     "metadata": {},
     "output_type": "execute_result"
    }
   ],
   "source": [
    " array_2d[:,[3,0]] #getting columns in any order"
   ]
  },
  {
   "cell_type": "markdown",
   "id": "4f2b031d",
   "metadata": {},
   "source": [
    "### Boolean Masking"
   ]
  },
  {
   "cell_type": "markdown",
   "id": "ea0a7577",
   "metadata": {},
   "source": [
    "Boolean masking is very useful and handy when it comes to count, modify, extract or manipulate values\n",
    "in an array based on some conditions or criteria. For eg, we want to count all the values greater than a certain value \n",
    "or we set a threshold and we want to get rid of outliers in our data. In numpy, boolean masking is often the most efficient way \n",
    "to accomplish such tasks. "
   ]
  },
  {
   "cell_type": "code",
   "execution_count": 167,
   "id": "d9064d84",
   "metadata": {},
   "outputs": [],
   "source": [
    "arr_1 = np.arange(1,11)"
   ]
  },
  {
   "cell_type": "code",
   "execution_count": 168,
   "id": "7a2d7137",
   "metadata": {},
   "outputs": [
    {
     "data": {
      "text/plain": [
       "array([ 1,  2,  3,  4,  5,  6,  7,  8,  9, 10])"
      ]
     },
     "execution_count": 168,
     "metadata": {},
     "output_type": "execute_result"
    }
   ],
   "source": [
    "arr_1"
   ]
  },
  {
   "cell_type": "code",
   "execution_count": 170,
   "id": "0fe6b799",
   "metadata": {},
   "outputs": [
    {
     "data": {
      "text/plain": [
       "array([False, False, False,  True,  True,  True,  True,  True,  True,\n",
       "        True])"
      ]
     },
     "execution_count": 170,
     "metadata": {},
     "output_type": "execute_result"
    }
   ],
   "source": [
    "bool_mask = arr_1 > 3 # passing the condition \n",
    "bool_mask"
   ]
  },
  {
   "cell_type": "code",
   "execution_count": 171,
   "id": "21fef32e",
   "metadata": {},
   "outputs": [],
   "source": [
    "mod_2_mask_1d = 0 == arr_1 % 2 # checking odd or even"
   ]
  },
  {
   "cell_type": "code",
   "execution_count": 172,
   "id": "f88d3cd0",
   "metadata": {},
   "outputs": [
    {
     "data": {
      "text/plain": [
       "array([False,  True, False,  True, False,  True, False,  True, False,\n",
       "        True])"
      ]
     },
     "execution_count": 172,
     "metadata": {},
     "output_type": "execute_result"
    }
   ],
   "source": [
    "mod_2_mask_1d "
   ]
  },
  {
   "cell_type": "code",
   "execution_count": 174,
   "id": "a8f48ec2",
   "metadata": {},
   "outputs": [
    {
     "data": {
      "text/plain": [
       "array([ 2,  4,  6,  8, 10])"
      ]
     },
     "execution_count": 174,
     "metadata": {},
     "output_type": "execute_result"
    }
   ],
   "source": [
    "ev_val = arr_1[mod_2_mask_1d ]\n",
    "ev_val"
   ]
  },
  {
   "cell_type": "code",
   "execution_count": 175,
   "id": "5786b1b1",
   "metadata": {},
   "outputs": [],
   "source": [
    "#creating 2 D array\n",
    "array_2d = np.arange(24) \n",
    "array_2d.shape = (6,4)\n",
    "mask_mod_2_2d = 0 == array_2d % 2 #Passing the mod operator to check odd or even"
   ]
  },
  {
   "cell_type": "code",
   "execution_count": 176,
   "id": "30fe4f93",
   "metadata": {},
   "outputs": [
    {
     "data": {
      "text/plain": [
       "array([[ 0,  1,  2,  3],\n",
       "       [ 4,  5,  6,  7],\n",
       "       [ 8,  9, 10, 11],\n",
       "       [12, 13, 14, 15],\n",
       "       [16, 17, 18, 19],\n",
       "       [20, 21, 22, 23]])"
      ]
     },
     "execution_count": 176,
     "metadata": {},
     "output_type": "execute_result"
    }
   ],
   "source": [
    "array_2d"
   ]
  },
  {
   "cell_type": "code",
   "execution_count": 177,
   "id": "022ac0bb",
   "metadata": {},
   "outputs": [
    {
     "data": {
      "text/plain": [
       "array([[ True, False,  True, False],\n",
       "       [ True, False,  True, False],\n",
       "       [ True, False,  True, False],\n",
       "       [ True, False,  True, False],\n",
       "       [ True, False,  True, False],\n",
       "       [ True, False,  True, False]])"
      ]
     },
     "execution_count": 177,
     "metadata": {},
     "output_type": "execute_result"
    }
   ],
   "source": [
    "mask_mod_2_2d"
   ]
  },
  {
   "cell_type": "code",
   "execution_count": 178,
   "id": "ae007228",
   "metadata": {},
   "outputs": [
    {
     "data": {
      "text/plain": [
       "array([ 0,  2,  4,  6,  8, 10, 12, 14, 16, 18, 20, 22])"
      ]
     },
     "execution_count": 178,
     "metadata": {},
     "output_type": "execute_result"
    }
   ],
   "source": [
    "array_2d[mask_mod_2_2d]"
   ]
  },
  {
   "cell_type": "markdown",
   "id": "a4734b94",
   "metadata": {},
   "source": [
    "### Part 3  Numpy Operations"
   ]
  },
  {
   "cell_type": "code",
   "execution_count": 179,
   "id": "32eca215",
   "metadata": {},
   "outputs": [],
   "source": [
    "# Arithmatic Functions\n",
    "\n",
    "arr = np.arange(4)"
   ]
  },
  {
   "cell_type": "code",
   "execution_count": 180,
   "id": "37c52237",
   "metadata": {},
   "outputs": [
    {
     "data": {
      "text/plain": [
       "array([0, 1, 2, 3])"
      ]
     },
     "execution_count": 180,
     "metadata": {},
     "output_type": "execute_result"
    }
   ],
   "source": [
    "arr"
   ]
  },
  {
   "cell_type": "code",
   "execution_count": 181,
   "id": "2ccc2f88",
   "metadata": {},
   "outputs": [
    {
     "data": {
      "text/plain": [
       "array([0, 2, 4, 6])"
      ]
     },
     "execution_count": 181,
     "metadata": {},
     "output_type": "execute_result"
    }
   ],
   "source": [
    "arr +arr #Addition two arrays"
   ]
  },
  {
   "cell_type": "code",
   "execution_count": 182,
   "id": "ffd81abc",
   "metadata": {},
   "outputs": [
    {
     "data": {
      "text/plain": [
       "array([0, 1, 4, 9])"
      ]
     },
     "execution_count": 182,
     "metadata": {},
     "output_type": "execute_result"
    }
   ],
   "source": [
    "arr * arr # Multiply Two arrays"
   ]
  },
  {
   "cell_type": "code",
   "execution_count": 185,
   "id": "3a1396ea",
   "metadata": {},
   "outputs": [
    {
     "data": {
      "text/plain": [
       "array([0, 0, 0, 0])"
      ]
     },
     "execution_count": 185,
     "metadata": {},
     "output_type": "execute_result"
    }
   ],
   "source": [
    "arr - arr # Subtraction "
   ]
  },
  {
   "cell_type": "code",
   "execution_count": 186,
   "id": "2f792ea5",
   "metadata": {},
   "outputs": [
    {
     "name": "stderr",
     "output_type": "stream",
     "text": [
      "C:\\Users\\kanik\\AppData\\Local\\Temp\\ipykernel_19624\\3001117470.py:1: RuntimeWarning: invalid value encountered in divide\n",
      "  arr / arr\n"
     ]
    },
    {
     "data": {
      "text/plain": [
       "array([nan,  1.,  1.,  1.])"
      ]
     },
     "execution_count": 186,
     "metadata": {},
     "output_type": "execute_result"
    }
   ],
   "source": [
    "arr / arr"
   ]
  },
  {
   "cell_type": "code",
   "execution_count": 187,
   "id": "0423b2c8",
   "metadata": {},
   "outputs": [
    {
     "name": "stderr",
     "output_type": "stream",
     "text": [
      "C:\\Users\\kanik\\AppData\\Local\\Temp\\ipykernel_19624\\255282349.py:1: RuntimeWarning: divide by zero encountered in divide\n",
      "  1/arr\n"
     ]
    },
    {
     "data": {
      "text/plain": [
       "array([       inf, 1.        , 0.5       , 0.33333333])"
      ]
     },
     "execution_count": 187,
     "metadata": {},
     "output_type": "execute_result"
    }
   ],
   "source": [
    "1/arr # So when we divide 0 by 1 , it will give infinity "
   ]
  },
  {
   "cell_type": "code",
   "execution_count": 188,
   "id": "3b1bb1d3",
   "metadata": {},
   "outputs": [
    {
     "data": {
      "text/plain": [
       "array([0, 1, 4, 9])"
      ]
     },
     "execution_count": 188,
     "metadata": {},
     "output_type": "execute_result"
    }
   ],
   "source": [
    "arr ** 2"
   ]
  },
  {
   "cell_type": "code",
   "execution_count": 189,
   "id": "a47c8927",
   "metadata": {},
   "outputs": [
    {
     "data": {
      "text/plain": [
       "array([0, 2, 4, 6])"
      ]
     },
     "execution_count": 189,
     "metadata": {},
     "output_type": "execute_result"
    }
   ],
   "source": [
    "2 * arr"
   ]
  },
  {
   "cell_type": "code",
   "execution_count": 190,
   "id": "798b79c4",
   "metadata": {},
   "outputs": [
    {
     "data": {
      "text/plain": [
       "array([ 0, 10, 20, 30])"
      ]
     },
     "execution_count": 190,
     "metadata": {},
     "output_type": "execute_result"
    }
   ],
   "source": [
    "10 * arr"
   ]
  },
  {
   "cell_type": "code",
   "execution_count": 191,
   "id": "e1e093ed",
   "metadata": {},
   "outputs": [],
   "source": [
    "# Universal Functions"
   ]
  },
  {
   "cell_type": "code",
   "execution_count": 192,
   "id": "e08b6f9d",
   "metadata": {},
   "outputs": [
    {
     "data": {
      "text/plain": [
       "array([0.        , 1.        , 1.41421356, 1.73205081])"
      ]
     },
     "execution_count": 192,
     "metadata": {},
     "output_type": "execute_result"
    }
   ],
   "source": [
    "# Square root \n",
    "np.sqrt(arr)"
   ]
  },
  {
   "cell_type": "code",
   "execution_count": 196,
   "id": "fc4739c8",
   "metadata": {},
   "outputs": [
    {
     "data": {
      "text/plain": [
       "(3, 0)"
      ]
     },
     "execution_count": 196,
     "metadata": {},
     "output_type": "execute_result"
    }
   ],
   "source": [
    "# max and min values \n",
    "np.max(arr),np.min(arr)"
   ]
  },
  {
   "cell_type": "code",
   "execution_count": 197,
   "id": "a90955ca",
   "metadata": {},
   "outputs": [
    {
     "data": {
      "text/plain": [
       "array([0.        , 0.84147098, 0.90929743, 0.14112001])"
      ]
     },
     "execution_count": 197,
     "metadata": {},
     "output_type": "execute_result"
    }
   ],
   "source": [
    "#Ttrigno functions like sin, cos, tan etc\n",
    "np.sin(arr)"
   ]
  },
  {
   "cell_type": "code",
   "execution_count": 198,
   "id": "2b8e841c",
   "metadata": {},
   "outputs": [
    {
     "data": {
      "text/plain": [
       "array([ 1.        ,  2.71828183,  7.3890561 , 20.08553692])"
      ]
     },
     "execution_count": 198,
     "metadata": {},
     "output_type": "execute_result"
    }
   ],
   "source": [
    "#Calculate the all exponential values \n",
    "np.exp(arr)"
   ]
  },
  {
   "cell_type": "code",
   "execution_count": 199,
   "id": "25142ff9",
   "metadata": {},
   "outputs": [
    {
     "name": "stderr",
     "output_type": "stream",
     "text": [
      "C:\\Users\\kanik\\AppData\\Local\\Temp\\ipykernel_19624\\3120950136.py:1: RuntimeWarning: divide by zero encountered in log\n",
      "  np.log(arr)\n"
     ]
    },
    {
     "data": {
      "text/plain": [
       "array([      -inf, 0.        , 0.69314718, 1.09861229])"
      ]
     },
     "execution_count": 199,
     "metadata": {},
     "output_type": "execute_result"
    }
   ],
   "source": [
    "np.log(arr)"
   ]
  },
  {
   "cell_type": "code",
   "execution_count": 200,
   "id": "50f8a8f6",
   "metadata": {},
   "outputs": [
    {
     "data": {
      "text/plain": [
       "array([0.        , 0.01745329, 0.03490659, 0.05235988])"
      ]
     },
     "execution_count": 200,
     "metadata": {},
     "output_type": "execute_result"
    }
   ],
   "source": [
    "np.deg2rad(arr) #coverting degrees to radiant"
   ]
  },
  {
   "cell_type": "code",
   "execution_count": 202,
   "id": "7b625de9",
   "metadata": {},
   "outputs": [
    {
     "data": {
      "text/plain": [
       "array([0., 1., 2., 3.])"
      ]
     },
     "execution_count": 202,
     "metadata": {},
     "output_type": "execute_result"
    }
   ],
   "source": [
    "np.rad2deg(np.deg2rad(arr)) #AGAIN CONVERTING INTO THE SAME ONE "
   ]
  },
  {
   "cell_type": "code",
   "execution_count": null,
   "id": "d037f442",
   "metadata": {},
   "outputs": [],
   "source": []
  },
  {
   "cell_type": "code",
   "execution_count": null,
   "id": "bbc33268",
   "metadata": {},
   "outputs": [],
   "source": []
  },
  {
   "cell_type": "code",
   "execution_count": null,
   "id": "e10dbbbe",
   "metadata": {},
   "outputs": [],
   "source": []
  },
  {
   "cell_type": "code",
   "execution_count": null,
   "id": "4d57206a",
   "metadata": {},
   "outputs": [],
   "source": []
  }
 ],
 "metadata": {
  "kernelspec": {
   "display_name": "Python 3 (ipykernel)",
   "language": "python",
   "name": "python3"
  },
  "language_info": {
   "codemirror_mode": {
    "name": "ipython",
    "version": 3
   },
   "file_extension": ".py",
   "mimetype": "text/x-python",
   "name": "python",
   "nbconvert_exporter": "python",
   "pygments_lexer": "ipython3",
   "version": "3.11.5"
  }
 },
 "nbformat": 4,
 "nbformat_minor": 5
}
